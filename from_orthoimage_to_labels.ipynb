{
 "cells": [
  {
   "cell_type": "markdown",
   "metadata": {},
   "source": [
    "# Separating orthoimages into the individual manual labels"
   ]
  },
  {
   "cell_type": "code",
   "execution_count": null,
   "metadata": {},
   "outputs": [],
   "source": [
    "# Import necessary packages\n",
    "import os\n",
    "import time\n",
    "import cv2\n",
    "import numpy as np\n",
    "from PIL import Image\n",
    "from skimage.measure import label"
   ]
  },
  {
   "cell_type": "markdown",
   "metadata": {},
   "source": [
    "### Functions"
   ]
  },
  {
   "cell_type": "code",
   "execution_count": null,
   "metadata": {},
   "outputs": [],
   "source": [
    "def bbox2(img):\n",
    "    rows = np.any(img, axis=1)\n",
    "    cols = np.any(img, axis=0)\n",
    "    rmin, rmax = np.where(rows)[0][[0, -1]]\n",
    "    cmin, cmax = np.where(cols)[0][[0, -1]]\n",
    "\n",
    "    return rmin, rmax, cmin, cmax\n",
    "\n",
    "def squared_image(img_1):\n",
    "    # check what is the biggest dimension\n",
    "    max = np.max(img_1.shape)\n",
    "    # create a blank image with the maximum size\n",
    "    img_pad_1 = np.zeros((max, max, 3),dtype='uint8' )\n",
    "\n",
    "    # check which dimension is the biggest\n",
    "    dim_max = np.argmax(img_1.shape)\n",
    "    # add the image in the other dimension\n",
    "    if dim_max == 0:\n",
    "        difference = int((max-img_1.shape[1])/2)\n",
    "        img_pad_1[:,difference :difference+img_1.shape[1], : ] = img_1\n",
    "\n",
    "    elif dim_max == 1:\n",
    "        difference = int((max-img_1.shape[0])/2)\n",
    "        img_pad_1[difference :difference+img_1.shape[0], : ] = img_1\n",
    "    return img_pad_1"
   ]
  },
  {
   "cell_type": "markdown",
   "metadata": {},
   "source": [
    "## Import the orthoimage and the corresponding manual labels as tif files"
   ]
  },
  {
   "cell_type": "code",
   "execution_count": null,
   "metadata": {},
   "outputs": [],
   "source": [
    "tif_file_path = \"insert orthoimage tif file path\"\n",
    "segmentation_file_path = \"insert manual segmentation tif file path\""
   ]
  },
  {
   "cell_type": "markdown",
   "metadata": {},
   "source": [
    "## Add the output folder path, and the identifier for the files"
   ]
  },
  {
   "cell_type": "code",
   "execution_count": null,
   "metadata": {},
   "outputs": [],
   "source": [
    "folder_path=\" insert output folder path\"\n",
    "fn='insert name here'"
   ]
  },
  {
   "cell_type": "markdown",
   "metadata": {},
   "source": [
    "## Create the individual labels in the specified folder"
   ]
  },
  {
   "cell_type": "code",
   "execution_count": null,
   "metadata": {},
   "outputs": [],
   "source": [
    "with Image.open(segmentation_file_path) as im:\n",
    "    image_labels=np.array(im, dtype=\"uint8\")\n",
    "    image_labels[image_labels == 128] = 0\n",
    "    with Image.open(tif_file_path) as img:\n",
    "        img_g=cv2.cvtColor(np.array(img, dtype='uint8'), cv2. COLOR_RGBA2RGB)\n",
    "        img_separate_labels=label(image_labels)\n",
    "        mask = np.zeros(img_g.shape, dtype='uint8')\n",
    "        for segVal in np.unique(img_separate_labels)[1:]:\n",
    "            mask = mask*0\n",
    "            mask[img_separate_labels == segVal] = ~0\n",
    "            label_mask=np.bitwise_and(mask[:,:,0], image_labels)\n",
    "            new_mask=np.bitwise_and(mask, img_g)\n",
    "            y1, y2, x1, x2=bbox2(new_mask[:,:,0])\n",
    "            new_image=new_mask[y1:y2, x1:x2, : ]\n",
    "            filename=fn+ time.strftime(\"%Y%m%d%H%M%S\")+'class'+str(np.max(label_mask) )+'.png'\n",
    "            new_image2=squared_image(new_image)\n",
    "            cv2.imwrite(os.path.join(folder_path , filename), cv2.cvtColor(new_image2, cv2.COLOR_RGB2BGR))\n",
    "            cv2.waitKey(0)"
   ]
  }
 ],
 "metadata": {
  "kernelspec": {
   "display_name": "myenv",
   "language": "python",
   "name": "python3"
  },
  "language_info": {
   "codemirror_mode": {
    "name": "ipython",
    "version": 3
   },
   "file_extension": ".py",
   "mimetype": "text/x-python",
   "name": "python",
   "nbconvert_exporter": "python",
   "pygments_lexer": "ipython3",
   "version": "3.9.15"
  }
 },
 "nbformat": 4,
 "nbformat_minor": 2
}
